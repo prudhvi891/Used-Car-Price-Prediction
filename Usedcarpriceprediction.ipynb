{
  "nbformat": 4,
  "nbformat_minor": 0,
  "metadata": {
    "kernelspec": {
      "display_name": "Python 3",
      "language": "python",
      "name": "python3"
    },
    "language_info": {
      "codemirror_mode": {
        "name": "ipython",
        "version": 3
      },
      "file_extension": ".py",
      "mimetype": "text/x-python",
      "name": "python",
      "nbconvert_exporter": "python",
      "pygments_lexer": "ipython3",
      "version": "3.7.3"
    },
    "colab": {
      "name": "MAJOR PROJECT-VERZEO (1).ipynb",
      "provenance": [],
      "toc_visible": true
    }
  },
  "cells": [
    {
      "cell_type": "markdown",
      "metadata": {
        "id": "DE5HS3nWEMAa"
      },
      "source": [
        "# ML MAJOR PROJECT\n",
        "\n",
        "\n"
      ]
    },
    {
      "cell_type": "markdown",
      "metadata": {
        "id": "uOzUtIziEMAd"
      },
      "source": [
        "# EXPLORATORY DATA ANALYSIS"
      ]
    },
    {
      "cell_type": "markdown",
      "metadata": {
        "id": "y7OaheV9EMAe"
      },
      "source": [
        "![image.png](attachment:image.png)"
      ]
    },
    {
      "cell_type": "markdown",
      "metadata": {
        "id": "IBZmtFFgEMAe"
      },
      "source": [
        "<b>Problem Statement:</b> we will be predicting the costs of used cars given the data collected from various sources and distributed across various locations in India.\n"
      ]
    },
    {
      "cell_type": "markdown",
      "metadata": {
        "id": "AQdqOhd7EMAe"
      },
      "source": [
        "importing all required libraries to move forward"
      ]
    },
    {
      "cell_type": "code",
      "metadata": {
        "id": "ggn2n7OvEMAf"
      },
      "source": [
        "import numpy as np # linear algebra\n",
        "import pandas as pd # data processing, CSV file I/O (e.g. pd.read_csv)\n",
        "import matplotlib.pyplot as plt\n",
        "import seaborn as sns\n",
        "%matplotlib inline"
      ],
      "execution_count": null,
      "outputs": []
    },
    {
      "cell_type": "markdown",
      "metadata": {
        "id": "jtWJhLjFEMAf"
      },
      "source": [
        "Now we are reading excel file which is present in downloads section and where we have to do EDA,data preprocessing and handling Null values and many more stuff"
      ]
    },
    {
      "cell_type": "markdown",
      "metadata": {
        "id": "D2Ikf9mYEMAg"
      },
      "source": [
        "by creating our dataframe as <b>prices</b>"
      ]
    },
    {
      "cell_type": "code",
      "metadata": {
        "id": "SpBemu2sEMAg"
      },
      "source": [
        "prices=pd.read_excel('Data_Train.xlsx',Sheetname='Sheet1')"
      ],
      "execution_count": null,
      "outputs": []
    },
    {
      "cell_type": "markdown",
      "metadata": {
        "id": "1X7AkfL0EMAg"
      },
      "source": [
        "let us check the head of our dataframe prices"
      ]
    },
    {
      "cell_type": "code",
      "metadata": {
        "id": "gYHiNa4_EMAg",
        "outputId": "7beace14-642f-45e8-f51c-e0d6da93e417"
      },
      "source": [
        "prices.head()"
      ],
      "execution_count": null,
      "outputs": [
        {
          "output_type": "execute_result",
          "data": {
            "text/html": [
              "<div>\n",
              "<style scoped>\n",
              "    .dataframe tbody tr th:only-of-type {\n",
              "        vertical-align: middle;\n",
              "    }\n",
              "\n",
              "    .dataframe tbody tr th {\n",
              "        vertical-align: top;\n",
              "    }\n",
              "\n",
              "    .dataframe thead th {\n",
              "        text-align: right;\n",
              "    }\n",
              "</style>\n",
              "<table border=\"1\" class=\"dataframe\">\n",
              "  <thead>\n",
              "    <tr style=\"text-align: right;\">\n",
              "      <th></th>\n",
              "      <th>Name</th>\n",
              "      <th>Location</th>\n",
              "      <th>Year</th>\n",
              "      <th>Kilometers_Driven</th>\n",
              "      <th>Fuel_Type</th>\n",
              "      <th>Transmission</th>\n",
              "      <th>Owner_Type</th>\n",
              "      <th>Mileage</th>\n",
              "      <th>Engine</th>\n",
              "      <th>Power</th>\n",
              "      <th>Seats</th>\n",
              "      <th>Price</th>\n",
              "    </tr>\n",
              "  </thead>\n",
              "  <tbody>\n",
              "    <tr>\n",
              "      <th>0</th>\n",
              "      <td>Maruti Wagon R LXI CNG</td>\n",
              "      <td>Mumbai</td>\n",
              "      <td>2010</td>\n",
              "      <td>72000</td>\n",
              "      <td>CNG</td>\n",
              "      <td>Manual</td>\n",
              "      <td>First</td>\n",
              "      <td>26.6 km/kg</td>\n",
              "      <td>998 CC</td>\n",
              "      <td>58.16 bhp</td>\n",
              "      <td>5.0</td>\n",
              "      <td>1.75</td>\n",
              "    </tr>\n",
              "    <tr>\n",
              "      <th>1</th>\n",
              "      <td>Hyundai Creta 1.6 CRDi SX Option</td>\n",
              "      <td>Pune</td>\n",
              "      <td>2015</td>\n",
              "      <td>41000</td>\n",
              "      <td>Diesel</td>\n",
              "      <td>Manual</td>\n",
              "      <td>First</td>\n",
              "      <td>19.67 kmpl</td>\n",
              "      <td>1582 CC</td>\n",
              "      <td>126.2 bhp</td>\n",
              "      <td>5.0</td>\n",
              "      <td>12.50</td>\n",
              "    </tr>\n",
              "    <tr>\n",
              "      <th>2</th>\n",
              "      <td>Honda Jazz V</td>\n",
              "      <td>Chennai</td>\n",
              "      <td>2011</td>\n",
              "      <td>46000</td>\n",
              "      <td>Petrol</td>\n",
              "      <td>Manual</td>\n",
              "      <td>First</td>\n",
              "      <td>18.2 kmpl</td>\n",
              "      <td>1199 CC</td>\n",
              "      <td>88.7 bhp</td>\n",
              "      <td>5.0</td>\n",
              "      <td>4.50</td>\n",
              "    </tr>\n",
              "    <tr>\n",
              "      <th>3</th>\n",
              "      <td>Maruti Ertiga VDI</td>\n",
              "      <td>Chennai</td>\n",
              "      <td>2012</td>\n",
              "      <td>87000</td>\n",
              "      <td>Diesel</td>\n",
              "      <td>Manual</td>\n",
              "      <td>First</td>\n",
              "      <td>20.77 kmpl</td>\n",
              "      <td>1248 CC</td>\n",
              "      <td>88.76 bhp</td>\n",
              "      <td>7.0</td>\n",
              "      <td>6.00</td>\n",
              "    </tr>\n",
              "    <tr>\n",
              "      <th>4</th>\n",
              "      <td>Audi A4 New 2.0 TDI Multitronic</td>\n",
              "      <td>Coimbatore</td>\n",
              "      <td>2013</td>\n",
              "      <td>40670</td>\n",
              "      <td>Diesel</td>\n",
              "      <td>Automatic</td>\n",
              "      <td>Second</td>\n",
              "      <td>15.2 kmpl</td>\n",
              "      <td>1968 CC</td>\n",
              "      <td>140.8 bhp</td>\n",
              "      <td>5.0</td>\n",
              "      <td>17.74</td>\n",
              "    </tr>\n",
              "  </tbody>\n",
              "</table>\n",
              "</div>"
            ],
            "text/plain": [
              "                               Name    Location  Year  Kilometers_Driven  \\\n",
              "0            Maruti Wagon R LXI CNG      Mumbai  2010              72000   \n",
              "1  Hyundai Creta 1.6 CRDi SX Option        Pune  2015              41000   \n",
              "2                      Honda Jazz V     Chennai  2011              46000   \n",
              "3                 Maruti Ertiga VDI     Chennai  2012              87000   \n",
              "4   Audi A4 New 2.0 TDI Multitronic  Coimbatore  2013              40670   \n",
              "\n",
              "  Fuel_Type Transmission Owner_Type     Mileage   Engine      Power  Seats  \\\n",
              "0       CNG       Manual      First  26.6 km/kg   998 CC  58.16 bhp    5.0   \n",
              "1    Diesel       Manual      First  19.67 kmpl  1582 CC  126.2 bhp    5.0   \n",
              "2    Petrol       Manual      First   18.2 kmpl  1199 CC   88.7 bhp    5.0   \n",
              "3    Diesel       Manual      First  20.77 kmpl  1248 CC  88.76 bhp    7.0   \n",
              "4    Diesel    Automatic     Second   15.2 kmpl  1968 CC  140.8 bhp    5.0   \n",
              "\n",
              "   Price  \n",
              "0   1.75  \n",
              "1  12.50  \n",
              "2   4.50  \n",
              "3   6.00  \n",
              "4  17.74  "
            ]
          },
          "metadata": {
            "tags": []
          },
          "execution_count": 3
        }
      ]
    },
    {
      "cell_type": "code",
      "metadata": {
        "id": "kiD-eNgcEMAh",
        "outputId": "0584f6d3-ae7a-41c8-8a2c-5a39cbe9e656"
      },
      "source": [
        "prices.info() #info() will give you all column names,total values and datatype of values"
      ],
      "execution_count": null,
      "outputs": [
        {
          "output_type": "stream",
          "text": [
            "<class 'pandas.core.frame.DataFrame'>\n",
            "RangeIndex: 6019 entries, 0 to 6018\n",
            "Data columns (total 12 columns):\n",
            " #   Column             Non-Null Count  Dtype  \n",
            "---  ------             --------------  -----  \n",
            " 0   Name               6019 non-null   object \n",
            " 1   Location           6019 non-null   object \n",
            " 2   Year               6019 non-null   int64  \n",
            " 3   Kilometers_Driven  6019 non-null   int64  \n",
            " 4   Fuel_Type          6019 non-null   object \n",
            " 5   Transmission       6019 non-null   object \n",
            " 6   Owner_Type         6019 non-null   object \n",
            " 7   Mileage            6017 non-null   object \n",
            " 8   Engine             5983 non-null   object \n",
            " 9   Power              5983 non-null   object \n",
            " 10  Seats              5977 non-null   float64\n",
            " 11  Price              6019 non-null   float64\n",
            "dtypes: float64(2), int64(2), object(8)\n",
            "memory usage: 564.4+ KB\n"
          ],
          "name": "stdout"
        }
      ]
    },
    {
      "cell_type": "markdown",
      "metadata": {
        "id": "NFGv6MU_EMAh"
      },
      "source": [
        "<h1>We have 2 types of variables.</h1>\n",
        "<ol>\n",
        "<li>Numerical variables : which contains number as values</li>\n",
        "<li>Categorical variables : which contains descriptions of groups or things.</li>\n",
        "    </ol>\n",
        "<p>In this Data set,\n",
        "\n",
        "Numerical Variables are Year,Kilometers_Driven,Seats,Price.\n",
        "\n",
        "Categorical Variables are except numeric all are categorical</p>"
      ]
    },
    {
      "cell_type": "code",
      "metadata": {
        "id": "4YG-KA6TEMAi",
        "outputId": "e7e73b39-ca91-45d2-eaea-c4176d0ab0ab"
      },
      "source": [
        "prices.describe() #all numeric columns statistics will be evaluated"
      ],
      "execution_count": null,
      "outputs": [
        {
          "output_type": "execute_result",
          "data": {
            "text/html": [
              "<div>\n",
              "<style scoped>\n",
              "    .dataframe tbody tr th:only-of-type {\n",
              "        vertical-align: middle;\n",
              "    }\n",
              "\n",
              "    .dataframe tbody tr th {\n",
              "        vertical-align: top;\n",
              "    }\n",
              "\n",
              "    .dataframe thead th {\n",
              "        text-align: right;\n",
              "    }\n",
              "</style>\n",
              "<table border=\"1\" class=\"dataframe\">\n",
              "  <thead>\n",
              "    <tr style=\"text-align: right;\">\n",
              "      <th></th>\n",
              "      <th>Year</th>\n",
              "      <th>Kilometers_Driven</th>\n",
              "      <th>Seats</th>\n",
              "      <th>Price</th>\n",
              "    </tr>\n",
              "  </thead>\n",
              "  <tbody>\n",
              "    <tr>\n",
              "      <th>count</th>\n",
              "      <td>6019.000000</td>\n",
              "      <td>6.019000e+03</td>\n",
              "      <td>5977.000000</td>\n",
              "      <td>6019.000000</td>\n",
              "    </tr>\n",
              "    <tr>\n",
              "      <th>mean</th>\n",
              "      <td>2013.358199</td>\n",
              "      <td>5.873838e+04</td>\n",
              "      <td>5.278735</td>\n",
              "      <td>9.479468</td>\n",
              "    </tr>\n",
              "    <tr>\n",
              "      <th>std</th>\n",
              "      <td>3.269742</td>\n",
              "      <td>9.126884e+04</td>\n",
              "      <td>0.808840</td>\n",
              "      <td>11.187917</td>\n",
              "    </tr>\n",
              "    <tr>\n",
              "      <th>min</th>\n",
              "      <td>1998.000000</td>\n",
              "      <td>1.710000e+02</td>\n",
              "      <td>0.000000</td>\n",
              "      <td>0.440000</td>\n",
              "    </tr>\n",
              "    <tr>\n",
              "      <th>25%</th>\n",
              "      <td>2011.000000</td>\n",
              "      <td>3.400000e+04</td>\n",
              "      <td>5.000000</td>\n",
              "      <td>3.500000</td>\n",
              "    </tr>\n",
              "    <tr>\n",
              "      <th>50%</th>\n",
              "      <td>2014.000000</td>\n",
              "      <td>5.300000e+04</td>\n",
              "      <td>5.000000</td>\n",
              "      <td>5.640000</td>\n",
              "    </tr>\n",
              "    <tr>\n",
              "      <th>75%</th>\n",
              "      <td>2016.000000</td>\n",
              "      <td>7.300000e+04</td>\n",
              "      <td>5.000000</td>\n",
              "      <td>9.950000</td>\n",
              "    </tr>\n",
              "    <tr>\n",
              "      <th>max</th>\n",
              "      <td>2019.000000</td>\n",
              "      <td>6.500000e+06</td>\n",
              "      <td>10.000000</td>\n",
              "      <td>160.000000</td>\n",
              "    </tr>\n",
              "  </tbody>\n",
              "</table>\n",
              "</div>"
            ],
            "text/plain": [
              "              Year  Kilometers_Driven        Seats        Price\n",
              "count  6019.000000       6.019000e+03  5977.000000  6019.000000\n",
              "mean   2013.358199       5.873838e+04     5.278735     9.479468\n",
              "std       3.269742       9.126884e+04     0.808840    11.187917\n",
              "min    1998.000000       1.710000e+02     0.000000     0.440000\n",
              "25%    2011.000000       3.400000e+04     5.000000     3.500000\n",
              "50%    2014.000000       5.300000e+04     5.000000     5.640000\n",
              "75%    2016.000000       7.300000e+04     5.000000     9.950000\n",
              "max    2019.000000       6.500000e+06    10.000000   160.000000"
            ]
          },
          "metadata": {
            "tags": []
          },
          "execution_count": 5
        }
      ]
    },
    {
      "cell_type": "code",
      "metadata": {
        "id": "g2ybm6_FEMAi",
        "outputId": "c8578f7c-5779-462c-f479-f216de07b988"
      },
      "source": [
        "prices.shape# checking how many rows and columns are present in our dataframe."
      ],
      "execution_count": null,
      "outputs": [
        {
          "output_type": "execute_result",
          "data": {
            "text/plain": [
              "(6019, 12)"
            ]
          },
          "metadata": {
            "tags": []
          },
          "execution_count": 6
        }
      ]
    },
    {
      "cell_type": "code",
      "metadata": {
        "id": "EFY7weveEMAi",
        "outputId": "3bb85480-6841-4656-975d-50e73a499aa9"
      },
      "source": [
        "prices.isnull().sum() #it shows the count of null values in each column"
      ],
      "execution_count": null,
      "outputs": [
        {
          "output_type": "execute_result",
          "data": {
            "text/plain": [
              "Name                  0\n",
              "Location              0\n",
              "Year                  0\n",
              "Kilometers_Driven     0\n",
              "Fuel_Type             0\n",
              "Transmission          0\n",
              "Owner_Type            0\n",
              "Mileage               2\n",
              "Engine               36\n",
              "Power                36\n",
              "Seats                42\n",
              "Price                 0\n",
              "dtype: int64"
            ]
          },
          "metadata": {
            "tags": []
          },
          "execution_count": 7
        }
      ]
    },
    {
      "cell_type": "markdown",
      "metadata": {
        "id": "Ucd0Oc6zEMAi"
      },
      "source": [
        "from above,we observe that in features Engine,Power,Seats,prices there are some missing values"
      ]
    },
    {
      "cell_type": "markdown",
      "metadata": {
        "id": "Cpp1aum1EMAj"
      },
      "source": [
        "we have to handle this null values by performing some methods like imputation,one hot encoding,label encoding etc.."
      ]
    },
    {
      "cell_type": "code",
      "metadata": {
        "id": "gtTTK01wEMAj",
        "outputId": "2269e5a3-f5f2-4286-8ff9-ad22357fcff1"
      },
      "source": [
        "prices.columns.tolist() #list of columns"
      ],
      "execution_count": null,
      "outputs": [
        {
          "output_type": "execute_result",
          "data": {
            "text/plain": [
              "['Name',\n",
              " 'Location',\n",
              " 'Year',\n",
              " 'Kilometers_Driven',\n",
              " 'Fuel_Type',\n",
              " 'Transmission',\n",
              " 'Owner_Type',\n",
              " 'Mileage',\n",
              " 'Engine',\n",
              " 'Power',\n",
              " 'Seats',\n",
              " 'Price']"
            ]
          },
          "metadata": {
            "tags": []
          },
          "execution_count": 8
        }
      ]
    },
    {
      "cell_type": "code",
      "metadata": {
        "id": "-8YNi84qEMAj",
        "outputId": "fe4fd9a9-50ab-4a5e-b0ae-85f78a38aca9"
      },
      "source": [
        "prices.nunique()"
      ],
      "execution_count": null,
      "outputs": [
        {
          "output_type": "execute_result",
          "data": {
            "text/plain": [
              "Name                 1876\n",
              "Location               11\n",
              "Year                   22\n",
              "Kilometers_Driven    3093\n",
              "Fuel_Type               5\n",
              "Transmission            2\n",
              "Owner_Type              4\n",
              "Mileage               442\n",
              "Engine                146\n",
              "Power                 372\n",
              "Seats                   9\n",
              "Price                1373\n",
              "dtype: int64"
            ]
          },
          "metadata": {
            "tags": []
          },
          "execution_count": 9
        }
      ]
    },
    {
      "cell_type": "markdown",
      "metadata": {
        "id": "kvt0RoApEMAj"
      },
      "source": [
        "# DATA PREPROCESSING"
      ]
    },
    {
      "cell_type": "code",
      "metadata": {
        "id": "m25k4m20EMAk"
      },
      "source": [
        "prices['Seats'] = prices['Seats'].fillna(5)"
      ],
      "execution_count": null,
      "outputs": []
    },
    {
      "cell_type": "code",
      "metadata": {
        "id": "dlFyvx59EMAk",
        "outputId": "da274060-0a39-4b9d-fb3b-bc4d44aa2d1d"
      },
      "source": [
        "prices.isnull().sum()"
      ],
      "execution_count": null,
      "outputs": [
        {
          "output_type": "execute_result",
          "data": {
            "text/plain": [
              "Name                  0\n",
              "Location              0\n",
              "Year                  0\n",
              "Kilometers_Driven     0\n",
              "Fuel_Type             0\n",
              "Transmission          0\n",
              "Owner_Type            0\n",
              "Mileage               2\n",
              "Engine               36\n",
              "Power                36\n",
              "Seats                 0\n",
              "Price                 0\n",
              "dtype: int64"
            ]
          },
          "metadata": {
            "tags": []
          },
          "execution_count": 11
        }
      ]
    },
    {
      "cell_type": "code",
      "metadata": {
        "id": "5vZUQ-CjEMAk",
        "outputId": "49afe4fa-71eb-4300-e03b-9de4af2d2391"
      },
      "source": [
        "import matplotlib.pyplot as plt\n",
        "\n",
        "plt.figure(figsize=(20,5))\n",
        "prices['Mileage'].value_counts().head(100).plot.bar()\n",
        "plt.show()"
      ],
      "execution_count": null,
      "outputs": [
        {
          "output_type": "display_data",
          "data": {
            "image/png": "[encoded data removed]",
            "text/plain": [
              "<Figure size 1440x360 with 1 Axes>"
            ]
          },
          "metadata": {
            "tags": [],
            "needs_background": "light"
          }
        }
      ]
    },
    {
      "cell_type": "code",
      "metadata": {
        "id": "Vr0wOs9iEMAk"
      },
      "source": [
        "prices['Mileage'] = prices['Mileage'].fillna('17.0 kmpl')\n",
        "prices['Mileage'] = prices['Mileage'].replace('0.0 kmpl','17.0 kmpl')"
      ],
      "execution_count": null,
      "outputs": []
    },
    {
      "cell_type": "code",
      "metadata": {
        "id": "9yTtzX74EMAl",
        "outputId": "206b6c0a-3710-4013-926b-43d63288ce02"
      },
      "source": [
        "plt.figure(figsize=(20,5))\n",
        "prices['Engine'].value_counts().head(100).plot.bar()\n",
        "plt.show()"
      ],
      "execution_count": null,
      "outputs": [
        {
          "output_type": "display_data",
          "data": {
            "image/png": "[encoded data removed]",
            "text/plain": [
              "<Figure size 1440x360 with 1 Axes>"
            ]
          },
          "metadata": {
            "tags": [],
            "needs_background": "light"
          }
        }
      ]
    },
    {
      "cell_type": "code",
      "metadata": {
        "id": "1C-VQ72XEMAl"
      },
      "source": [
        "prices['Engine']=prices['Engine'].fillna('1197 CC')"
      ],
      "execution_count": null,
      "outputs": []
    },
    {
      "cell_type": "code",
      "metadata": {
        "id": "3QRQn2rNEMAl",
        "outputId": "26b72a91-8b73-4d82-ff0b-f4db656bf926"
      },
      "source": [
        "plt.figure(figsize=(20,5))\n",
        "prices['Power'].value_counts().head(100).plot.bar()\n",
        "plt.show()"
      ],
      "execution_count": null,
      "outputs": [
        {
          "output_type": "display_data",
          "data": {
            "image/png": "[encoded data removed]",
            "text/plain": [
              "<Figure size 1440x360 with 1 Axes>"
            ]
          },
          "metadata": {
            "tags": [],
            "needs_background": "light"
          }
        }
      ]
    },
    {
      "cell_type": "code",
      "metadata": {
        "id": "4g0r3RNIEMAl"
      },
      "source": [
        "prices['Power']=prices['Power'].fillna('74 bhp')\n",
        "prices['Power']=prices['Power'].replace('null bhp''74 bhp')"
      ],
      "execution_count": null,
      "outputs": []
    },
    {
      "cell_type": "code",
      "metadata": {
        "id": "JKn7RGcAEMAm"
      },
      "source": [
        "prices['Mileage'] = prices['Mileage'].apply(lambda x : str(x).split(' ')[0]).astype(float)\n",
        "prices['Engine'] = prices['Engine'].apply(lambda x : str(x).split(\" \")[0]).astype(float)\n",
        "prices['Power'] = prices['Power'].replace('null bhp','0 bhp').apply(lambda x : str(x).split(' ')[0]).astype(float)"
      ],
      "execution_count": null,
      "outputs": []
    },
    {
      "cell_type": "code",
      "metadata": {
        "id": "BQXFTEI0EMAm",
        "outputId": "84ea97ae-6fc9-4ee9-9fb0-5bf3b352c178"
      },
      "source": [
        "prices.isnull().sum() #null values have been imputed"
      ],
      "execution_count": null,
      "outputs": [
        {
          "output_type": "execute_result",
          "data": {
            "text/plain": [
              "Name                 0\n",
              "Location             0\n",
              "Year                 0\n",
              "Kilometers_Driven    0\n",
              "Fuel_Type            0\n",
              "Transmission         0\n",
              "Owner_Type           0\n",
              "Mileage              0\n",
              "Engine               0\n",
              "Power                0\n",
              "Seats                0\n",
              "Price                0\n",
              "dtype: int64"
            ]
          },
          "metadata": {
            "tags": []
          },
          "execution_count": 19
        }
      ]
    },
    {
      "cell_type": "code",
      "metadata": {
        "id": "QKyBV71dEMAm",
        "outputId": "aa28ade1-3ddb-4771-afee-3d62a8b2d1d5"
      },
      "source": [
        "prices.info()"
      ],
      "execution_count": null,
      "outputs": [
        {
          "output_type": "stream",
          "text": [
            "<class 'pandas.core.frame.DataFrame'>\n",
            "RangeIndex: 6019 entries, 0 to 6018\n",
            "Data columns (total 12 columns):\n",
            " #   Column             Non-Null Count  Dtype  \n",
            "---  ------             --------------  -----  \n",
            " 0   Name               6019 non-null   object \n",
            " 1   Location           6019 non-null   object \n",
            " 2   Year               6019 non-null   int64  \n",
            " 3   Kilometers_Driven  6019 non-null   int64  \n",
            " 4   Fuel_Type          6019 non-null   object \n",
            " 5   Transmission       6019 non-null   object \n",
            " 6   Owner_Type         6019 non-null   object \n",
            " 7   Mileage            6019 non-null   float64\n",
            " 8   Engine             6019 non-null   float64\n",
            " 9   Power              6019 non-null   float64\n",
            " 10  Seats              6019 non-null   float64\n",
            " 11  Price              6019 non-null   float64\n",
            "dtypes: float64(5), int64(2), object(5)\n",
            "memory usage: 564.4+ KB\n"
          ],
          "name": "stdout"
        }
      ]
    },
    {
      "cell_type": "code",
      "metadata": {
        "id": "IBatjX13EMAm"
      },
      "source": [
        "prices['Name'] = prices.Name.str.split().str.get(0)"
      ],
      "execution_count": null,
      "outputs": []
    },
    {
      "cell_type": "code",
      "metadata": {
        "id": "FQTWqEV7EMAn",
        "outputId": "aab57a34-ed32-45d2-d3dc-94a6e85d2d73"
      },
      "source": [
        "prices.head()"
      ],
      "execution_count": null,
      "outputs": [
        {
          "output_type": "execute_result",
          "data": {
            "text/html": [
              "<div>\n",
              "<style scoped>\n",
              "    .dataframe tbody tr th:only-of-type {\n",
              "        vertical-align: middle;\n",
              "    }\n",
              "\n",
              "    .dataframe tbody tr th {\n",
              "        vertical-align: top;\n",
              "    }\n",
              "\n",
              "    .dataframe thead th {\n",
              "        text-align: right;\n",
              "    }\n",
              "</style>\n",
              "<table border=\"1\" class=\"dataframe\">\n",
              "  <thead>\n",
              "    <tr style=\"text-align: right;\">\n",
              "      <th></th>\n",
              "      <th>Name</th>\n",
              "      <th>Location</th>\n",
              "      <th>Year</th>\n",
              "      <th>Kilometers_Driven</th>\n",
              "      <th>Fuel_Type</th>\n",
              "      <th>Transmission</th>\n",
              "      <th>Owner_Type</th>\n",
              "      <th>Mileage</th>\n",
              "      <th>Engine</th>\n",
              "      <th>Power</th>\n",
              "      <th>Seats</th>\n",
              "      <th>Price</th>\n",
              "    </tr>\n",
              "  </thead>\n",
              "  <tbody>\n",
              "    <tr>\n",
              "      <th>0</th>\n",
              "      <td>Maruti</td>\n",
              "      <td>Mumbai</td>\n",
              "      <td>2010</td>\n",
              "      <td>72000</td>\n",
              "      <td>CNG</td>\n",
              "      <td>Manual</td>\n",
              "      <td>First</td>\n",
              "      <td>26.60</td>\n",
              "      <td>998.0</td>\n",
              "      <td>58.16</td>\n",
              "      <td>5.0</td>\n",
              "      <td>1.75</td>\n",
              "    </tr>\n",
              "    <tr>\n",
              "      <th>1</th>\n",
              "      <td>Hyundai</td>\n",
              "      <td>Pune</td>\n",
              "      <td>2015</td>\n",
              "      <td>41000</td>\n",
              "      <td>Diesel</td>\n",
              "      <td>Manual</td>\n",
              "      <td>First</td>\n",
              "      <td>19.67</td>\n",
              "      <td>1582.0</td>\n",
              "      <td>126.20</td>\n",
              "      <td>5.0</td>\n",
              "      <td>12.50</td>\n",
              "    </tr>\n",
              "    <tr>\n",
              "      <th>2</th>\n",
              "      <td>Honda</td>\n",
              "      <td>Chennai</td>\n",
              "      <td>2011</td>\n",
              "      <td>46000</td>\n",
              "      <td>Petrol</td>\n",
              "      <td>Manual</td>\n",
              "      <td>First</td>\n",
              "      <td>18.20</td>\n",
              "      <td>1199.0</td>\n",
              "      <td>88.70</td>\n",
              "      <td>5.0</td>\n",
              "      <td>4.50</td>\n",
              "    </tr>\n",
              "    <tr>\n",
              "      <th>3</th>\n",
              "      <td>Maruti</td>\n",
              "      <td>Chennai</td>\n",
              "      <td>2012</td>\n",
              "      <td>87000</td>\n",
              "      <td>Diesel</td>\n",
              "      <td>Manual</td>\n",
              "      <td>First</td>\n",
              "      <td>20.77</td>\n",
              "      <td>1248.0</td>\n",
              "      <td>88.76</td>\n",
              "      <td>7.0</td>\n",
              "      <td>6.00</td>\n",
              "    </tr>\n",
              "    <tr>\n",
              "      <th>4</th>\n",
              "      <td>Audi</td>\n",
              "      <td>Coimbatore</td>\n",
              "      <td>2013</td>\n",
              "      <td>40670</td>\n",
              "      <td>Diesel</td>\n",
              "      <td>Automatic</td>\n",
              "      <td>Second</td>\n",
              "      <td>15.20</td>\n",
              "      <td>1968.0</td>\n",
              "      <td>140.80</td>\n",
              "      <td>5.0</td>\n",
              "      <td>17.74</td>\n",
              "    </tr>\n",
              "  </tbody>\n",
              "</table>\n",
              "</div>"
            ],
            "text/plain": [
              "      Name    Location  Year  Kilometers_Driven Fuel_Type Transmission  \\\n",
              "0   Maruti      Mumbai  2010              72000       CNG       Manual   \n",
              "1  Hyundai        Pune  2015              41000    Diesel       Manual   \n",
              "2    Honda     Chennai  2011              46000    Petrol       Manual   \n",
              "3   Maruti     Chennai  2012              87000    Diesel       Manual   \n",
              "4     Audi  Coimbatore  2013              40670    Diesel    Automatic   \n",
              "\n",
              "  Owner_Type  Mileage  Engine   Power  Seats  Price  \n",
              "0      First    26.60   998.0   58.16    5.0   1.75  \n",
              "1      First    19.67  1582.0  126.20    5.0  12.50  \n",
              "2      First    18.20  1199.0   88.70    5.0   4.50  \n",
              "3      First    20.77  1248.0   88.76    7.0   6.00  \n",
              "4     Second    15.20  1968.0  140.80    5.0  17.74  "
            ]
          },
          "metadata": {
            "tags": []
          },
          "execution_count": 22
        }
      ]
    },
    {
      "cell_type": "markdown",
      "metadata": {
        "id": "86OiQVcOEMAn"
      },
      "source": [
        "# EDA ON PRICES DATA"
      ]
    },
    {
      "cell_type": "code",
      "metadata": {
        "id": "h6yZwY5-EMAn",
        "outputId": "81a061e0-af7b-4473-e32d-ec8eff433af6"
      },
      "source": [
        "sns.distplot(prices['Price'],kde=False)"
      ],
      "execution_count": null,
      "outputs": [
        {
          "output_type": "execute_result",
          "data": {
            "text/plain": [
              "<matplotlib.axes._subplots.AxesSubplot at 0x1bd3a022748>"
            ]
          },
          "metadata": {
            "tags": []
          },
          "execution_count": 23
        },
        {
          "output_type": "display_data",
          "data": {
            "image/png": "[encoded data removed]",
            "text/plain": [
              "<Figure size 432x288 with 1 Axes>"
            ]
          },
          "metadata": {
            "tags": [],
            "needs_background": "light"
          }
        }
      ]
    },
    {
      "cell_type": "code",
      "metadata": {
        "id": "lzGW0vxvEMAn",
        "outputId": "238f3a10-6200-45e2-d55b-30d6abf25a58"
      },
      "source": [
        "sns.boxplot(y = 'Transmission', x = 'Price', data = prices)\n"
      ],
      "execution_count": null,
      "outputs": [
        {
          "output_type": "execute_result",
          "data": {
            "text/plain": [
              "<matplotlib.axes._subplots.AxesSubplot at 0x266d395cf88>"
            ]
          },
          "metadata": {
            "tags": []
          },
          "execution_count": 63
        },
        {
          "output_type": "display_data",
          "data": {
            "image/png": "[encoded data removed]",
            "text/plain": [
              "<Figure size 432x288 with 1 Axes>"
            ]
          },
          "metadata": {
            "tags": [],
            "needs_background": "light"
          }
        }
      ]
    },
    {
      "cell_type": "code",
      "metadata": {
        "id": "rROHCBxzEMAo",
        "outputId": "a759b6cf-e5b4-4ccc-98e6-57da03de09ea"
      },
      "source": [
        "plt.figure(figsize=(15,5))\n",
        "plt.subplots_adjust(left=0.125, bottom=0.1, right=0.9, top=0.9,\n",
        "                      wspace=0.5, hspace=0.2)\n",
        "plt.subplot(132)\n",
        "sns.countplot(x='Transmission',data=prices,palette='coolwarm')\n",
        "plt.subplot(133)\n",
        "sns.countplot(x='Owner_Type',data=prices,palette='Set3')\n"
      ],
      "execution_count": null,
      "outputs": [
        {
          "output_type": "execute_result",
          "data": {
            "text/plain": [
              "<matplotlib.axes._subplots.AxesSubplot at 0x266d36c8708>"
            ]
          },
          "metadata": {
            "tags": []
          },
          "execution_count": 67
        },
        {
          "output_type": "display_data",
          "data": {
            "image/png": "[encoded data removed]",
            "text/plain": [
              "<Figure size 1080x360 with 2 Axes>"
            ]
          },
          "metadata": {
            "tags": [],
            "needs_background": "light"
          }
        }
      ]
    },
    {
      "cell_type": "code",
      "metadata": {
        "id": "Zq8QbaVEEMAo",
        "outputId": "4757d406-2db4-4564-cb64-bcbdd26ecfbe"
      },
      "source": [
        "sns.countplot(prices['Fuel_Type'])"
      ],
      "execution_count": null,
      "outputs": [
        {
          "output_type": "execute_result",
          "data": {
            "text/plain": [
              "<matplotlib.axes._subplots.AxesSubplot at 0x266d365e948>"
            ]
          },
          "metadata": {
            "tags": []
          },
          "execution_count": 68
        },
        {
          "output_type": "display_data",
          "data": {
            "image/png": "[encoded data removed]",
            "text/plain": [
              "<Figure size 432x288 with 1 Axes>"
            ]
          },
          "metadata": {
            "tags": [],
            "needs_background": "light"
          }
        }
      ]
    },
    {
      "cell_type": "code",
      "metadata": {
        "id": "0R5VnStyEMAo",
        "outputId": "eed84a6c-caa5-478c-d479-78fbab5b0498"
      },
      "source": [
        "sns.lmplot('Seats', 'Price',data=prices,order=1)"
      ],
      "execution_count": null,
      "outputs": [
        {
          "output_type": "execute_result",
          "data": {
            "text/plain": [
              "<seaborn.axisgrid.FacetGrid at 0x266d36025c8>"
            ]
          },
          "metadata": {
            "tags": []
          },
          "execution_count": 70
        },
        {
          "output_type": "display_data",
          "data": {
            "image/png": "[encoded data removed]",
            "text/plain": [
              "<Figure size 360x360 with 1 Axes>"
            ]
          },
          "metadata": {
            "tags": [],
            "needs_background": "light"
          }
        }
      ]
    },
    {
      "cell_type": "code",
      "metadata": {
        "id": "IkLxI6fNEMAo",
        "outputId": "4f04d82d-50c6-45c7-fba1-b154c3183d74"
      },
      "source": [
        "sns.lmplot('Kilometers_Driven' ,  'Price' , data=prices, order=1)"
      ],
      "execution_count": null,
      "outputs": [
        {
          "output_type": "execute_result",
          "data": {
            "text/plain": [
              "<seaborn.axisgrid.FacetGrid at 0x266d35a3508>"
            ]
          },
          "metadata": {
            "tags": []
          },
          "execution_count": 73
        },
        {
          "output_type": "display_data",
          "data": {
            "image/png": "[encoded data removed]",
            "text/plain": [
              "<Figure size 360x360 with 1 Axes>"
            ]
          },
          "metadata": {
            "tags": [],
            "needs_background": "light"
          }
        }
      ]
    },
    {
      "cell_type": "code",
      "metadata": {
        "id": "Uqy5MkY0EMAp",
        "outputId": "e8d8936a-303b-4e10-bc54-5c1e115002c6"
      },
      "source": [
        "sns.heatmap(prices.corr(),annot=True, linewidths=.9)"
      ],
      "execution_count": null,
      "outputs": [
        {
          "output_type": "execute_result",
          "data": {
            "text/plain": [
              "<matplotlib.axes._subplots.AxesSubplot at 0x266d3526dc8>"
            ]
          },
          "metadata": {
            "tags": []
          },
          "execution_count": 74
        },
        {
          "output_type": "display_data",
          "data": {
            "image/png": "[encoded data removed]",
            "text/plain": [
              "<Figure size 432x288 with 2 Axes>"
            ]
          },
          "metadata": {
            "tags": [],
            "needs_background": "light"
          }
        }
      ]
    },
    {
      "cell_type": "code",
      "metadata": {
        "id": "gMxXrskqEMAp",
        "outputId": "17276824-1fe2-4b55-c7af-9f18b80e4e9c"
      },
      "source": [
        "plt.figure(figsize=(20,10))\n",
        "plt.subplots_adjust(left=0.125, bottom=0.1, right=0.9, top=0.9,\n",
        "                      wspace=0.5, hspace=0.2)\n",
        "plt.subplot(131)\n",
        "sns.barplot(x='Transmission',y='Price',data=prices)\n",
        "plt.subplot(132)\n",
        "sns.barplot(x='Owner_Type',y='Price',data=prices)\n",
        "plt.subplot(133)\n",
        "sns.barplot(x='Fuel_Type',y='Price',data=prices)"
      ],
      "execution_count": null,
      "outputs": [
        {
          "output_type": "execute_result",
          "data": {
            "text/plain": [
              "<matplotlib.axes._subplots.AxesSubplot at 0x266d2d20d08>"
            ]
          },
          "metadata": {
            "tags": []
          },
          "execution_count": 79
        },
        {
          "output_type": "display_data",
          "data": {
            "image/png": "[encoded data removed]",
            "text/plain": [
              "<Figure size 1440x720 with 3 Axes>"
            ]
          },
          "metadata": {
            "tags": [],
            "needs_background": "light"
          }
        }
      ]
    },
    {
      "cell_type": "markdown",
      "metadata": {
        "id": "W7Vgjyg_EMAp"
      },
      "source": [
        "# <b>Observations</b>\n"
      ]
    },
    {
      "cell_type": "markdown",
      "metadata": {
        "id": "5nmGeGpLEMAp"
      },
      "source": [
        "<ol>\n",
        "  <li>the price of cars with Automatic Transmission are more than Manual</li>\n",
        "    <li>owner type 'First' are more price</li>\n",
        "    <li>fueltype 'Diseal' and 'Electric' are more costlier cars</li>"
      ]
    },
    {
      "cell_type": "code",
      "metadata": {
        "id": "R7vyKRLrEMAp",
        "outputId": "f4043e95-c8c0-41a2-c8fd-aa78d6a6bea8"
      },
      "source": [
        "sns.barplot(x='Seats',y='Price',data=prices,palette='coolwarm')"
      ],
      "execution_count": null,
      "outputs": [
        {
          "output_type": "execute_result",
          "data": {
            "text/plain": [
              "<matplotlib.axes._subplots.AxesSubplot at 0x266d2e4c6c8>"
            ]
          },
          "metadata": {
            "tags": []
          },
          "execution_count": 82
        },
        {
          "output_type": "display_data",
          "data": {
            "image/png": "[encoded data removed]",
            "text/plain": [
              "<Figure size 432x288 with 1 Axes>"
            ]
          },
          "metadata": {
            "tags": [],
            "needs_background": "light"
          }
        }
      ]
    },
    {
      "cell_type": "code",
      "metadata": {
        "id": "XqRyhH2gEMAq",
        "outputId": "b3204861-4009-45c5-d40c-a10806dc62da"
      },
      "source": [
        "sns.countplot(prices['Seats'])"
      ],
      "execution_count": null,
      "outputs": [
        {
          "output_type": "execute_result",
          "data": {
            "text/plain": [
              "<matplotlib.axes._subplots.AxesSubplot at 0x266d31d22c8>"
            ]
          },
          "metadata": {
            "tags": []
          },
          "execution_count": 83
        },
        {
          "output_type": "display_data",
          "data": {
            "image/png": "[encoded data removed]",
            "text/plain": [
              "<Figure size 432x288 with 1 Axes>"
            ]
          },
          "metadata": {
            "tags": [],
            "needs_background": "light"
          }
        }
      ]
    },
    {
      "cell_type": "markdown",
      "metadata": {
        "id": "bWt0pPbuEMAq"
      },
      "source": [
        "we have maximum cars with Seats 5"
      ]
    },
    {
      "cell_type": "code",
      "metadata": {
        "id": "4DI8BJWjEMAq",
        "outputId": "aeb05376-11de-4920-9017-8d880f8c5f82"
      },
      "source": [
        "sns.boxplot(y='Mileage',data=prices)"
      ],
      "execution_count": null,
      "outputs": [
        {
          "output_type": "execute_result",
          "data": {
            "text/plain": [
              "<matplotlib.axes._subplots.AxesSubplot at 0x266db4375c8>"
            ]
          },
          "metadata": {
            "tags": []
          },
          "execution_count": 87
        },
        {
          "output_type": "display_data",
          "data": {
            "image/png": "[encoded data removed]",
            "text/plain": [
              "<Figure size 432x288 with 1 Axes>"
            ]
          },
          "metadata": {
            "tags": [],
            "needs_background": "light"
          }
        }
      ]
    },
    {
      "cell_type": "code",
      "metadata": {
        "id": "mj_KPksLEMAq",
        "outputId": "77b574e8-52a9-483e-edf7-48b17ea7731d"
      },
      "source": [
        "sns.boxplot(y='Engine',data=prices)"
      ],
      "execution_count": null,
      "outputs": [
        {
          "output_type": "execute_result",
          "data": {
            "text/plain": [
              "<matplotlib.axes._subplots.AxesSubplot at 0x266f5bb7188>"
            ]
          },
          "metadata": {
            "tags": []
          },
          "execution_count": 95
        },
        {
          "output_type": "display_data",
          "data": {
            "image/png": "[encoded data removed]",
            "text/plain": [
              "<Figure size 432x288 with 1 Axes>"
            ]
          },
          "metadata": {
            "tags": [],
            "needs_background": "light"
          }
        }
      ]
    },
    {
      "cell_type": "code",
      "metadata": {
        "id": "86PgmgeMEMAr",
        "outputId": "efa09282-27f4-453c-d468-89f86ad0e12d"
      },
      "source": [
        "sns.boxplot(x='Kilometers_Driven',data=prices)"
      ],
      "execution_count": null,
      "outputs": [
        {
          "output_type": "execute_result",
          "data": {
            "text/plain": [
              "<matplotlib.axes._subplots.AxesSubplot at 0x266f5c48bc8>"
            ]
          },
          "metadata": {
            "tags": []
          },
          "execution_count": 97
        },
        {
          "output_type": "display_data",
          "data": {
            "image/png": "[encoded data removed]",
            "text/plain": [
              "<Figure size 432x288 with 1 Axes>"
            ]
          },
          "metadata": {
            "tags": [],
            "needs_background": "light"
          }
        }
      ]
    },
    {
      "cell_type": "markdown",
      "metadata": {
        "id": "I-7fwSsuEMAr"
      },
      "source": [
        "# LABEL ENCODING AND ONE-HOT-ENCODING"
      ]
    },
    {
      "cell_type": "markdown",
      "metadata": {
        "id": "qIaqbrv8EMAt"
      },
      "source": [
        "Label Encoding refers to converting the labels into numeric form so as to convert it into the machine-readable form and it assigns a unique number(starting from 0) to each class of data."
      ]
    },
    {
      "cell_type": "code",
      "metadata": {
        "id": "PtsjX2syEMAt"
      },
      "source": [
        "# Import label encoder \n",
        "from sklearn import preprocessing \n",
        "  \n",
        "# label_encoder object knows how to understand word labels. \n",
        "label_encoder = preprocessing.LabelEncoder() "
      ],
      "execution_count": null,
      "outputs": []
    },
    {
      "cell_type": "code",
      "metadata": {
        "id": "JyvjHoOnEMAt",
        "outputId": "025df903-e53f-4483-9761-e2fed7ddb00d"
      },
      "source": [
        "prices['Fuel_Type'].unique()"
      ],
      "execution_count": null,
      "outputs": [
        {
          "output_type": "execute_result",
          "data": {
            "text/plain": [
              "array(['CNG', 'Diesel', 'Petrol', 'LPG', 'Electric'], dtype=object)"
            ]
          },
          "metadata": {
            "tags": []
          },
          "execution_count": 25
        }
      ]
    },
    {
      "cell_type": "code",
      "metadata": {
        "id": "HQYoG8LmEMAu",
        "outputId": "2295a809-e0f4-4acf-a245-226c958140c3"
      },
      "source": [
        "# Encode labels in column 'Fuel_Type'. \n",
        "\n",
        "prices['Fuel_Type']= label_encoder.fit_transform(prices['Fuel_Type']) \n",
        "  \n",
        "prices['Fuel_Type'].unique() "
      ],
      "execution_count": null,
      "outputs": [
        {
          "output_type": "execute_result",
          "data": {
            "text/plain": [
              "array([0, 1, 4, 3, 2])"
            ]
          },
          "metadata": {
            "tags": []
          },
          "execution_count": 26
        }
      ]
    },
    {
      "cell_type": "code",
      "metadata": {
        "id": "YiK6j1MVEMAu",
        "outputId": "17ac0cc1-404d-4276-aed1-76a49cd4ca21"
      },
      "source": [
        "prices['Owner_Type'].unique()"
      ],
      "execution_count": null,
      "outputs": [
        {
          "output_type": "execute_result",
          "data": {
            "text/plain": [
              "array(['First', 'Second', 'Fourth & Above', 'Third'], dtype=object)"
            ]
          },
          "metadata": {
            "tags": []
          },
          "execution_count": 27
        }
      ]
    },
    {
      "cell_type": "code",
      "metadata": {
        "id": "HS6HyytxEMAu",
        "outputId": "024bc816-9305-42fc-a5ef-e9d967ffaf17"
      },
      "source": [
        "# Encode labels in column 'Owner_Type'. \n",
        "\n",
        "prices['Owner_Type']= label_encoder.fit_transform(prices['Owner_Type']) \n",
        "  \n",
        "prices['Owner_Type'].unique() "
      ],
      "execution_count": null,
      "outputs": [
        {
          "output_type": "execute_result",
          "data": {
            "text/plain": [
              "array([0, 2, 1, 3])"
            ]
          },
          "metadata": {
            "tags": []
          },
          "execution_count": 28
        }
      ]
    },
    {
      "cell_type": "code",
      "metadata": {
        "id": "CY620dNWEMAv",
        "outputId": "72b8fd08-dd09-4d7a-c2eb-8782c53d1f77"
      },
      "source": [
        "prices['Transmission'].unique()"
      ],
      "execution_count": null,
      "outputs": [
        {
          "output_type": "execute_result",
          "data": {
            "text/plain": [
              "array(['Manual', 'Automatic'], dtype=object)"
            ]
          },
          "metadata": {
            "tags": []
          },
          "execution_count": 29
        }
      ]
    },
    {
      "cell_type": "code",
      "metadata": {
        "id": "wHNTJm2REMAv",
        "outputId": "b5cc15aa-e7cc-4f51-826c-3c08d7548497"
      },
      "source": [
        "# Encode labels in column 'Transmission'. \n",
        "\n",
        "prices['Transmission']= label_encoder.fit_transform(prices['Transmission']) \n",
        "  \n",
        "prices['Transmission'].unique() "
      ],
      "execution_count": null,
      "outputs": [
        {
          "output_type": "execute_result",
          "data": {
            "text/plain": [
              "array([1, 0])"
            ]
          },
          "metadata": {
            "tags": []
          },
          "execution_count": 30
        }
      ]
    },
    {
      "cell_type": "code",
      "metadata": {
        "id": "0k6AwoPcEMAv",
        "outputId": "a242760a-6e1d-440a-b97c-8280cbdc2a5f"
      },
      "source": [
        "prices['Name'].unique()"
      ],
      "execution_count": null,
      "outputs": [
        {
          "output_type": "execute_result",
          "data": {
            "text/plain": [
              "array(['Maruti', 'Hyundai', 'Honda', 'Audi', 'Nissan', 'Toyota',\n",
              "       'Volkswagen', 'Tata', 'Land', 'Mitsubishi', 'Renault',\n",
              "       'Mercedes-Benz', 'BMW', 'Mahindra', 'Ford', 'Porsche', 'Datsun',\n",
              "       'Jaguar', 'Volvo', 'Chevrolet', 'Skoda', 'Mini', 'Fiat', 'Jeep',\n",
              "       'Smart', 'Ambassador', 'Isuzu', 'ISUZU', 'Force', 'Bentley',\n",
              "       'Lamborghini'], dtype=object)"
            ]
          },
          "metadata": {
            "tags": []
          },
          "execution_count": 31
        }
      ]
    },
    {
      "cell_type": "code",
      "metadata": {
        "id": "Kbm9bcZlEMAw",
        "outputId": "66dc8f90-abd2-4460-a83f-4b985dd8bcdf"
      },
      "source": [
        "# Encode labels in column 'Name'. \n",
        "\n",
        "prices['Name']= label_encoder.fit_transform(prices['Name']) \n",
        "  \n",
        "prices['Name'].unique() "
      ],
      "execution_count": null,
      "outputs": [
        {
          "output_type": "execute_result",
          "data": {
            "text/plain": [
              "array([18, 10,  9,  1, 22, 28, 29, 27, 16, 21, 24, 19,  2, 17,  8, 23,  5,\n",
              "       13, 30,  4, 25, 20,  6, 14, 26,  0, 12, 11,  7,  3, 15])"
            ]
          },
          "metadata": {
            "tags": []
          },
          "execution_count": 32
        }
      ]
    },
    {
      "cell_type": "code",
      "metadata": {
        "id": "Wjp3HPVUEMAw",
        "outputId": "ea8dcde0-8a55-44f3-d093-283369b88a38"
      },
      "source": [
        "prices['Year'].unique()"
      ],
      "execution_count": null,
      "outputs": [
        {
          "output_type": "execute_result",
          "data": {
            "text/plain": [
              "array([2010, 2015, 2011, 2012, 2013, 2016, 2018, 2014, 2017, 2007, 2009,\n",
              "       2008, 2019, 2006, 2005, 2004, 2002, 2000, 2003, 1999, 2001, 1998],\n",
              "      dtype=int64)"
            ]
          },
          "metadata": {
            "tags": []
          },
          "execution_count": 33
        }
      ]
    },
    {
      "cell_type": "code",
      "metadata": {
        "id": "sL1WmzhkEMAw",
        "outputId": "c216a4d6-09b9-4ede-9dbc-4c872f0eca25"
      },
      "source": [
        "# Encode labels in column 'Year'. \n",
        "\n",
        "prices['Year']= label_encoder.fit_transform(prices['Year']) \n",
        "  \n",
        "prices['Year'].unique() "
      ],
      "execution_count": null,
      "outputs": [
        {
          "output_type": "execute_result",
          "data": {
            "text/plain": [
              "array([12, 17, 13, 14, 15, 18, 20, 16, 19,  9, 11, 10, 21,  8,  7,  6,  4,\n",
              "        2,  5,  1,  3,  0], dtype=int64)"
            ]
          },
          "metadata": {
            "tags": []
          },
          "execution_count": 34
        }
      ]
    },
    {
      "cell_type": "code",
      "metadata": {
        "id": "fkE68fM2EMAx",
        "outputId": "6a7f4627-7d30-4a1d-f97c-ced76ec5278a"
      },
      "source": [
        "prices['Location'].unique()"
      ],
      "execution_count": null,
      "outputs": [
        {
          "output_type": "execute_result",
          "data": {
            "text/plain": [
              "array(['Mumbai', 'Pune', 'Chennai', 'Coimbatore', 'Hyderabad', 'Jaipur',\n",
              "       'Kochi', 'Kolkata', 'Delhi', 'Bangalore', 'Ahmedabad'],\n",
              "      dtype=object)"
            ]
          },
          "metadata": {
            "tags": []
          },
          "execution_count": 35
        }
      ]
    },
    {
      "cell_type": "code",
      "metadata": {
        "id": "h2qGKc7oEMAx",
        "outputId": "081b3dd2-84f8-49ae-8f5b-b243dda49674"
      },
      "source": [
        "# Encode labels in column 'Location'. \n",
        "\n",
        "prices['Location']= label_encoder.fit_transform(prices['Location']) \n",
        "  \n",
        "prices['Location'].unique() "
      ],
      "execution_count": null,
      "outputs": [
        {
          "output_type": "execute_result",
          "data": {
            "text/plain": [
              "array([ 9, 10,  2,  3,  5,  6,  7,  8,  4,  1,  0])"
            ]
          },
          "metadata": {
            "tags": []
          },
          "execution_count": 36
        }
      ]
    },
    {
      "cell_type": "markdown",
      "metadata": {
        "id": "QK1x2QcsEMAy"
      },
      "source": [
        "# FEATURE SCALING "
      ]
    },
    {
      "cell_type": "code",
      "metadata": {
        "id": "hfGTPlIREMAy"
      },
      "source": [
        "#Scaling Kilometers_Driven column using minmax scaler\n",
        "\n",
        "from sklearn.preprocessing import MinMaxScaler\n",
        "\n",
        "kilometers = prices['Kilometers_Driven']\n",
        "kilometers_matrix = kilometers.values.reshape(-1,1)\n",
        "\n",
        "scaler = MinMaxScaler()\n",
        "kilometers_scaled = scaler.fit_transform(kilometers_matrix)"
      ],
      "execution_count": null,
      "outputs": []
    },
    {
      "cell_type": "code",
      "metadata": {
        "id": "A7-aieI0EMAy"
      },
      "source": [
        "prices['Kilometers_Driven']=kilometers_scaled"
      ],
      "execution_count": null,
      "outputs": []
    },
    {
      "cell_type": "code",
      "metadata": {
        "id": "18905FHrEMAy",
        "outputId": "2a4dee12-9bc6-439b-8d98-7753786c69a8"
      },
      "source": [
        "prices.head()"
      ],
      "execution_count": null,
      "outputs": [
        {
          "output_type": "execute_result",
          "data": {
            "text/html": [
              "<div>\n",
              "<style scoped>\n",
              "    .dataframe tbody tr th:only-of-type {\n",
              "        vertical-align: middle;\n",
              "    }\n",
              "\n",
              "    .dataframe tbody tr th {\n",
              "        vertical-align: top;\n",
              "    }\n",
              "\n",
              "    .dataframe thead th {\n",
              "        text-align: right;\n",
              "    }\n",
              "</style>\n",
              "<table border=\"1\" class=\"dataframe\">\n",
              "  <thead>\n",
              "    <tr style=\"text-align: right;\">\n",
              "      <th></th>\n",
              "      <th>Name</th>\n",
              "      <th>Location</th>\n",
              "      <th>Year</th>\n",
              "      <th>Kilometers_Driven</th>\n",
              "      <th>Fuel_Type</th>\n",
              "      <th>Transmission</th>\n",
              "      <th>Owner_Type</th>\n",
              "      <th>Mileage</th>\n",
              "      <th>Engine</th>\n",
              "      <th>Power</th>\n",
              "      <th>Seats</th>\n",
              "      <th>Price</th>\n",
              "    </tr>\n",
              "  </thead>\n",
              "  <tbody>\n",
              "    <tr>\n",
              "      <th>0</th>\n",
              "      <td>18</td>\n",
              "      <td>9</td>\n",
              "      <td>12</td>\n",
              "      <td>0.011051</td>\n",
              "      <td>0</td>\n",
              "      <td>1</td>\n",
              "      <td>0</td>\n",
              "      <td>26.60</td>\n",
              "      <td>998.0</td>\n",
              "      <td>58.16</td>\n",
              "      <td>5.0</td>\n",
              "      <td>1.75</td>\n",
              "    </tr>\n",
              "    <tr>\n",
              "      <th>1</th>\n",
              "      <td>10</td>\n",
              "      <td>10</td>\n",
              "      <td>17</td>\n",
              "      <td>0.006282</td>\n",
              "      <td>1</td>\n",
              "      <td>1</td>\n",
              "      <td>0</td>\n",
              "      <td>19.67</td>\n",
              "      <td>1582.0</td>\n",
              "      <td>126.20</td>\n",
              "      <td>5.0</td>\n",
              "      <td>12.50</td>\n",
              "    </tr>\n",
              "    <tr>\n",
              "      <th>2</th>\n",
              "      <td>9</td>\n",
              "      <td>2</td>\n",
              "      <td>13</td>\n",
              "      <td>0.007051</td>\n",
              "      <td>4</td>\n",
              "      <td>1</td>\n",
              "      <td>0</td>\n",
              "      <td>18.20</td>\n",
              "      <td>1199.0</td>\n",
              "      <td>88.70</td>\n",
              "      <td>5.0</td>\n",
              "      <td>4.50</td>\n",
              "    </tr>\n",
              "    <tr>\n",
              "      <th>3</th>\n",
              "      <td>18</td>\n",
              "      <td>2</td>\n",
              "      <td>14</td>\n",
              "      <td>0.013359</td>\n",
              "      <td>1</td>\n",
              "      <td>1</td>\n",
              "      <td>0</td>\n",
              "      <td>20.77</td>\n",
              "      <td>1248.0</td>\n",
              "      <td>88.76</td>\n",
              "      <td>7.0</td>\n",
              "      <td>6.00</td>\n",
              "    </tr>\n",
              "    <tr>\n",
              "      <th>4</th>\n",
              "      <td>1</td>\n",
              "      <td>3</td>\n",
              "      <td>15</td>\n",
              "      <td>0.006231</td>\n",
              "      <td>1</td>\n",
              "      <td>0</td>\n",
              "      <td>2</td>\n",
              "      <td>15.20</td>\n",
              "      <td>1968.0</td>\n",
              "      <td>140.80</td>\n",
              "      <td>5.0</td>\n",
              "      <td>17.74</td>\n",
              "    </tr>\n",
              "  </tbody>\n",
              "</table>\n",
              "</div>"
            ],
            "text/plain": [
              "   Name  Location  Year  Kilometers_Driven  Fuel_Type  Transmission  \\\n",
              "0    18         9    12           0.011051          0             1   \n",
              "1    10        10    17           0.006282          1             1   \n",
              "2     9         2    13           0.007051          4             1   \n",
              "3    18         2    14           0.013359          1             1   \n",
              "4     1         3    15           0.006231          1             0   \n",
              "\n",
              "   Owner_Type  Mileage  Engine   Power  Seats  Price  \n",
              "0           0    26.60   998.0   58.16    5.0   1.75  \n",
              "1           0    19.67  1582.0  126.20    5.0  12.50  \n",
              "2           0    18.20  1199.0   88.70    5.0   4.50  \n",
              "3           0    20.77  1248.0   88.76    7.0   6.00  \n",
              "4           2    15.20  1968.0  140.80    5.0  17.74  "
            ]
          },
          "metadata": {
            "tags": []
          },
          "execution_count": 39
        }
      ]
    },
    {
      "cell_type": "markdown",
      "metadata": {
        "id": "Zi8EfG_xEMAz"
      },
      "source": [
        "# TRAIN TEST SPLIT"
      ]
    },
    {
      "cell_type": "code",
      "metadata": {
        "id": "k8UyVH_qEMAz"
      },
      "source": [
        "X=prices.drop(['Price'],axis=1)\n",
        "Y=prices['Price']"
      ],
      "execution_count": null,
      "outputs": []
    },
    {
      "cell_type": "code",
      "metadata": {
        "id": "RjSwB5jiEMAz"
      },
      "source": [
        "from sklearn.model_selection import train_test_split\n",
        "X_train,X_test,Y_train,Y_test=train_test_split(X,Y,test_size=0.2,random_state=101)"
      ],
      "execution_count": null,
      "outputs": []
    },
    {
      "cell_type": "markdown",
      "metadata": {
        "id": "BhdjYj_nEMAz"
      },
      "source": [
        "# LINEAR REGRESSION"
      ]
    },
    {
      "cell_type": "code",
      "metadata": {
        "id": "kUZgNU_SEMAz"
      },
      "source": [
        "from sklearn.linear_model import LinearRegression\n",
        "lm=LinearRegression()"
      ],
      "execution_count": null,
      "outputs": []
    },
    {
      "cell_type": "code",
      "metadata": {
        "id": "YfrkzWvaEMA0",
        "outputId": "7c3859a9-223b-411c-f0fa-7b53ab40bb92"
      },
      "source": [
        "lm.fit(X_train,Y_train)"
      ],
      "execution_count": null,
      "outputs": [
        {
          "output_type": "execute_result",
          "data": {
            "text/plain": [
              "LinearRegression(copy_X=True, fit_intercept=True, n_jobs=None, normalize=False)"
            ]
          },
          "metadata": {
            "tags": []
          },
          "execution_count": 58
        }
      ]
    },
    {
      "cell_type": "code",
      "metadata": {
        "id": "LFtFyBamEMA0"
      },
      "source": [
        "predictions=lm.predict(X_test)"
      ],
      "execution_count": null,
      "outputs": []
    },
    {
      "cell_type": "code",
      "metadata": {
        "id": "TmZJEb6oEMA0",
        "outputId": "f8ca0deb-329a-4ec7-b66e-1c321c29c52b"
      },
      "source": [
        "from sklearn import metrics\n",
        "metrics.r2_score(Y_test,predictions)"
      ],
      "execution_count": null,
      "outputs": [
        {
          "output_type": "execute_result",
          "data": {
            "text/plain": [
              "0.6807714548408934"
            ]
          },
          "metadata": {
            "tags": []
          },
          "execution_count": 60
        }
      ]
    },
    {
      "cell_type": "code",
      "metadata": {
        "id": "InX191nyEMA0"
      },
      "source": [
        "import xgboost as xgb\n",
        "my_model = xgb.XGBRegressor(n_estimators=1000,learning_rate = 0.1)"
      ],
      "execution_count": null,
      "outputs": []
    },
    {
      "cell_type": "code",
      "metadata": {
        "id": "3wbdqO7wEMA1",
        "outputId": "9d8382bf-49bf-4ea5-cf1e-befd35a58d49"
      },
      "source": [
        "my_model.fit(X_train, Y_train) \n",
        "             "
      ],
      "execution_count": null,
      "outputs": [
        {
          "output_type": "execute_result",
          "data": {
            "text/plain": [
              "XGBRegressor(base_score=0.5, booster='gbtree', colsample_bylevel=1,\n",
              "             colsample_bynode=1, colsample_bytree=1, gamma=0, gpu_id=-1,\n",
              "             importance_type='gain', interaction_constraints='',\n",
              "             learning_rate=0.1, max_delta_step=0, max_depth=6,\n",
              "             min_child_weight=1, missing=nan, monotone_constraints='()',\n",
              "             n_estimators=1000, n_jobs=0, num_parallel_tree=1,\n",
              "             objective='reg:squarederror', random_state=0, reg_alpha=0,\n",
              "             reg_lambda=1, scale_pos_weight=1, subsample=1, tree_method='exact',\n",
              "             validate_parameters=1, verbosity=None)"
            ]
          },
          "metadata": {
            "tags": []
          },
          "execution_count": 73
        }
      ]
    },
    {
      "cell_type": "code",
      "metadata": {
        "id": "Q_RYzzC7EMA1"
      },
      "source": [
        "predictions1 = my_model.predict(X_test)"
      ],
      "execution_count": null,
      "outputs": []
    },
    {
      "cell_type": "code",
      "metadata": {
        "id": "TNCrJQ1FEMA1",
        "outputId": "bc06b67f-f894-4dfd-f953-2097e4daf81a"
      },
      "source": [
        "from sklearn import metrics\n",
        "metrics.r2_score(Y_test,predictions1)"
      ],
      "execution_count": null,
      "outputs": [
        {
          "output_type": "execute_result",
          "data": {
            "text/plain": [
              "0.9004583435311481"
            ]
          },
          "metadata": {
            "tags": []
          },
          "execution_count": 75
        }
      ]
    },
    {
      "cell_type": "code",
      "metadata": {
        "id": "8xbbTQVBEMA1"
      },
      "source": [
        ""
      ],
      "execution_count": null,
      "outputs": []
    }
  ]
}